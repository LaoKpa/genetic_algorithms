{
 "cells": [
  {
   "cell_type": "markdown",
   "metadata": {},
   "source": [
    "# Genetic Algorithms\n",
    "\n",
    "A genetic algorithm is a method of achieving an ideal state of a problem through the mimicing of genetic evolution.\n",
    "\n",
    "A solution is randomly generated and if it meets critera it continues to be tested (via roulette or tournament), if it fails, it can die off. Random mutations may be introduced over time and certain solutions can 'breed' and create new populations by splicing together two parent solutions.\n",
    "\n",
    "This is much more effective at times than brute forcing a solution. For example brute forcing the seating plan of 25 wedding guests in 25 seats would provide 15,511,210,043,330,985,984,000,000 combinations of possible arrangements.\n",
    "\n",
    "Solving that would not be human readaable or computationally effictive using brute force.\n",
    "\n",
    "We are going to create a genetic algorithm that optimizes for shooting a cannon out of a paper bag. We want to optimize for pairs of angles and velocities that will get the cannon ball out of the bag.\n",
    "\n",
    "- we could do this with math/physics but that wouldn't teach us about GAs\n",
    "- and as stated before brute force (testing every possible combination) would take too long\n",
    "\n",
    "For our purposes, the cannon must shoot the ball out of the top of the bag in order for it to escape, if it hits a wall, it fails.\n",
    "\n",
    "So we need to calculate the x and y coordinates for the cannon ball:\n",
    "\n",
    "$ velocity = initial \\space velocity \\space \\frac{meters}{sec} $ <br>\n",
    "$ \\theta = angle$ <br>\n",
    "$ time = specific \\space time $ <br>\n",
    "$ g = gravity \\space 9.81 \\space \\frac{meters}{sec}^2$ on earth\n",
    "\n",
    "\n",
    "$ x = velocity *  time * cos(\\theta) $\n",
    "\n",
    "$ y = velocity * time * sin(\\theta) * -\\frac{1}2 gravity * time^2 $ <br>\n",
    "\n",
    "$ hy = height\\space of\\space wall $\n",
    "\n",
    "$ hx = distance\\space to\\space wall \\space from \\space cannon $\n",
    "\n",
    "constraints:\n",
    "- v > 0\n",
    "- angle must be between 0 and 180 degrees starting at the horizontal\n"
   ]
  },
  {
   "cell_type": "code",
   "execution_count": 1,
   "metadata": {},
   "outputs": [],
   "source": [
    "import random\n",
    "import math\n",
    "import matplotlib.pyplot as plt"
   ]
  },
  {
   "cell_type": "code",
   "execution_count": 2,
   "metadata": {},
   "outputs": [],
   "source": [
    "def random_tries(n):\n",
    "    '''\n",
    "    choose initial values for seed generation for n number of items \n",
    "    in the form [theta = angle, velocity]\n",
    "    '''\n",
    "    tries = []\n",
    "    for i in range(n):\n",
    "        angle = random.uniform(0.1, 181) #theta\n",
    "        theta = math.radians(angle)\n",
    "        v = random.uniform(1,25)\n",
    "        tries.append([theta,v])\n",
    "    return tries"
   ]
  },
  {
   "cell_type": "markdown",
   "metadata": {},
   "source": [
    "The idea behind this is that all ML algorithms generally need to have a random starting point, then proceed to loop around and attempt to optimize some fitness/loss function."
   ]
  },
  {
   "cell_type": "code",
   "execution_count": 3,
   "metadata": {},
   "outputs": [],
   "source": [
    "def selection(generation, width):\n",
    "    results = [hit_coordinate(theta, v, width)[1] for (theta, v) in generation]\n",
    "    return cumulative_probabilities(results)"
   ]
  },
  {
   "cell_type": "code",
   "execution_count": 4,
   "metadata": {},
   "outputs": [
    {
     "name": "stdout",
     "output_type": "stream",
     "text": [
      "            o  \n",
      "|         o | o\n",
      "|       o   |  o\n",
      "|      o    |    0\n",
      "|_____X_____|     boom    x is the cannon the | is the wall\n"
     ]
    }
   ],
   "source": [
    "print('            o  ')\n",
    "print('|         o | o')\n",
    "print('|       o   |  o')\n",
    "print('|      o    |    0')\n",
    "print('|_____X_____|     boom    x is the cannon the | is the wall')"
   ]
  },
  {
   "cell_type": "code",
   "execution_count": 5,
   "metadata": {},
   "outputs": [],
   "source": [
    "def hit_coordinate(theta, v, width):\n",
    "    x = 0.5 * width # starting point for cannon 2; 2 walls one to th left adn one to the right\n",
    "    x_hit = width # where the wall is\n",
    "    if theta > math.pi/2:\n",
    "        x = -x\n",
    "        x_hit = 0\n",
    "    t = x / (v * math.cos(theta))\n",
    "    y = v * t * math.sin(theta) - 0.5 * 9.81 * t * t\n",
    "    if y < 0:\n",
    "        y = 0.0\n",
    "    return x_hit,y"
   ]
  },
  {
   "cell_type": "code",
   "execution_count": 6,
   "metadata": {},
   "outputs": [],
   "source": [
    "def escaped(theta, v, width, height):\n",
    "    x_hit, y_hit = hit_coordinate(theta, v, width)\n",
    "    return (x_hit==0 or x_hit==width) and (y_hit > height)"
   ]
  },
  {
   "cell_type": "code",
   "execution_count": 7,
   "metadata": {},
   "outputs": [],
   "source": [
    "from itertools import accumulate\n",
    "\n",
    "def cumulative_probabilities(results):\n",
    "    return list(accumulate(results))"
   ]
  },
  {
   "cell_type": "code",
   "execution_count": 8,
   "metadata": {},
   "outputs": [],
   "source": [
    "def choose(choices):\n",
    "    '''\n",
    "    pick two items, the one better one is picked\n",
    "    '''\n",
    "    p = random.uniform(0, choices[-1])\n",
    "    for i in range(len(choices)):\n",
    "        if choices[i] >= p:\n",
    "            return i"
   ]
  },
  {
   "cell_type": "code",
   "execution_count": 9,
   "metadata": {},
   "outputs": [],
   "source": [
    "def crossover(generation, width):\n",
    "    '''\n",
    "    pick a group and breed/create next gen\n",
    "    '''\n",
    "    choices = selection(generation, width)\n",
    "    next_generation = []\n",
    "    for i in range(0, len(generation)):\n",
    "        mom = generation[choose(choices)]\n",
    "        dad = generation[choose(choices)]\n",
    "        next_generation.append(breed(mom,dad))\n",
    "    return next_generation"
   ]
  },
  {
   "cell_type": "code",
   "execution_count": 10,
   "metadata": {},
   "outputs": [],
   "source": [
    "def breed(mom, dad):\n",
    "    if random.random() > 0.5:\n",
    "        return(mom[0], dad[1])\n",
    "    else:\n",
    "        return(dad[0], mom[1])"
   ]
  },
  {
   "cell_type": "code",
   "execution_count": 11,
   "metadata": {},
   "outputs": [],
   "source": [
    "def mutate(generation):\n",
    "    '''\n",
    "    probabalistic mutations 10% chance\n",
    "    '''\n",
    "    for i in range(len(generation)-1):\n",
    "        (theta, v) = generation[i]\n",
    "        if random.random() < 0.1:\n",
    "            new_theta = theta + random.uniform(-10,10) * math.pi/180\n",
    "            if 0 < new_theta < 2*math.pi:\n",
    "                theta = new_theta\n",
    "        if random.random() < 0.1:\n",
    "            v *= random.uniform(0.9,1.1)\n",
    "        generation[i] = (theta,v)"
   ]
  },
  {
   "cell_type": "code",
   "execution_count": 12,
   "metadata": {},
   "outputs": [],
   "source": [
    "def fire_cannon(epochs = 10, events = 12, height = 5, width = 6):\n",
    "    \n",
    "    generation = random_tries(events)\n",
    "    generation0 = list(generation)\n",
    "    \n",
    "    for i in range(1,epochs):\n",
    "        results = []\n",
    "        generation = crossover(generation, width)\n",
    "        mutate(generation)\n",
    "        \n",
    "    display_start_and_finish(generation0, generation, height, width)"
   ]
  },
  {
   "cell_type": "code",
   "execution_count": 13,
   "metadata": {},
   "outputs": [],
   "source": [
    "def display(generation, ax, height, width):\n",
    "    rect = plt.Rectangle((0,0), width, height, facecolor = 'gray')\n",
    "    cannon = plt.Rectangle((width/2-0.25,0), 0.5, 1.5, facecolor = 'black')\n",
    "    ax.add_patch(rect)\n",
    "    ax.add_patch(cannon)\n",
    "    ax.set_xlabel('x')\n",
    "    ax.set_ylabel('y')\n",
    "    ax.set_xlim(-width, 2*width)\n",
    "    ax.set_ylim(0,3.0*height)\n",
    "    free = 0\n",
    "    result = launch(generation, height, width)\n",
    "    for res, (theta, v) in zip(result,generation):\n",
    "        x = [j[0] for j in res]\n",
    "        y = [j[1] for j in res]\n",
    "        if escaped(theta, v, width, height):\n",
    "            ax.plot(x,y,'ro-', linewidth=2.0)\n",
    "            free+= 1\n",
    "        else:\n",
    "            ax.plot(x,y,'bx-', linewidth=2.0)\n",
    "    print(\"Escaped: \", free)"
   ]
  },
  {
   "cell_type": "code",
   "execution_count": 14,
   "metadata": {},
   "outputs": [],
   "source": [
    "def launch(generation, height, width):\n",
    "    results=[]\n",
    "    for (theta,v) in generation:\n",
    "        x_hit, y_hit = hit_coordinate(theta,v,width)\n",
    "        good = escaped(theta,v,width,height)\n",
    "        result = []\n",
    "        result.append((width/2.0, 0.0))\n",
    "        for i in range(1,20):\n",
    "            t = i * 0.2\n",
    "            x = width/2.0 + v * t * math.cos(theta)\n",
    "            y = v * t * math.sin(theta) - 0.5 * 9.81 * t * t\n",
    "            if y < 0:\n",
    "                y = 0\n",
    "            if not good and not(0 < x < width):\n",
    "                result.append((x_hit, y_hit))\n",
    "                break\n",
    "            result.append((x,y))\n",
    "        results.append(result)\n",
    "    return results"
   ]
  },
  {
   "cell_type": "code",
   "execution_count": 15,
   "metadata": {},
   "outputs": [],
   "source": [
    "def display_start_and_finish(generation0, generation, height, width):\n",
    "    plt.rcParams.update({'font.size': 12})\n",
    "    fig = plt.figure()\n",
    "    ax0 = fig.add_subplot(3,1,1) #3 plots, 1 column, 1st plot\n",
    "    ax0.set_title('Initial Attempt')\n",
    "    display(generation0,ax0,height,width)\n",
    "    ax = fig.add_subplot(3,1,3)\n",
    "    ax.set_title('Final Attempt')\n",
    "    display(generation, ax, height, width)\n",
    "    plt.show()"
   ]
  },
  {
   "cell_type": "code",
   "execution_count": 16,
   "metadata": {},
   "outputs": [
    {
     "name": "stdout",
     "output_type": "stream",
     "text": [
      "Escaped:  1\n",
      "Escaped:  12\n"
     ]
    },
    {
     "data": {
      "image/png": "[encoded data removed]",
      "text/plain": [
       "<Figure size 432x288 with 2 Axes>"
      ]
     },
     "metadata": {
      "needs_background": "light"
     },
     "output_type": "display_data"
    }
   ],
   "source": [
    "fire_cannon(epochs= 10, events=12)"
   ]
  }
 ],
 "metadata": {
  "kernelspec": {
   "display_name": "Python 3",
   "language": "python",
   "name": "python3"
  },
  "language_info": {
   "codemirror_mode": {
    "name": "ipython",
    "version": 3
   },
   "file_extension": ".py",
   "mimetype": "text/x-python",
   "name": "python",
   "nbconvert_exporter": "python",
   "pygments_lexer": "ipython3",
   "version": "3.7.1"
  }
 },
 "nbformat": 4,
 "nbformat_minor": 2
}
