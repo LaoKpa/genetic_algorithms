{
 "cells": [
  {
   "cell_type": "markdown",
   "metadata": {},
   "source": [
    "# Biological L-systems\n",
    "\n",
    "These systems initialy developed by biologist <b> Aristid Lindenmayer </b> were used to mathematically describe how plants grow.\n",
    "\n",
    "While our other work on spirangles and other escape methods grew iteratively, these L-systems grow recursively much like a plants growth at the apical meristem and other offshoots.\n",
    "\n",
    "<b>! Attention these L-systems can take a while to render at higher numbers !</b>"
   ]
  },
  {
   "cell_type": "code",
   "execution_count": 1,
   "metadata": {},
   "outputs": [],
   "source": [
    "from turtle import *\n",
    "import turtle"
   ]
  },
  {
   "cell_type": "code",
   "execution_count": 2,
   "metadata": {},
   "outputs": [],
   "source": [
    "turtle.speed(0) #set speed to fastest\n",
    "turtle.tracer(0, 0) # disable drawing animation to increase speed"
   ]
  },
  {
   "cell_type": "markdown",
   "metadata": {},
   "source": [
    "Symbol definition:\n",
    "\n",
    "+ X = x-coord\n",
    "+ Y = y-coord\n",
    "+ F = forward\n",
    "+ '+' = right\n",
    "+ '-' = left"
   ]
  },
  {
   "cell_type": "code",
   "execution_count": 3,
   "metadata": {},
   "outputs": [],
   "source": [
    "def X(n, angle):\n",
    "    if n>0: L(\"X+YF+\", n, angle)\n",
    "\n",
    "def Y(n, angle):\n",
    "    if n>0: L(\"-FX-Y\", n, angle)\n",
    "                \n",
    "def L(s,n,angle):\n",
    "    # set angle to 90 for dragon pattern 36 for DNA pattern 60 for hexagon 70 for pentagon\n",
    "    for c in s: #for command in string n number of times\n",
    "        if c == '-': lt(angle) \n",
    "        elif c == '+': rt(angle)\n",
    "        elif c == 'X': X(n-1, angle)\n",
    "        elif c == 'Y': Y(n-1, angle)\n",
    "        elif c == 'F': fd(20) #stepsize"
   ]
  },
  {
   "cell_type": "code",
   "execution_count": null,
   "metadata": {},
   "outputs": [],
   "source": [
    "if __name__ == '__main__':\n",
    "    turtle.setworldcoordinates(-2000.,-2000.,2000.,2000.)\n",
    "    X(10, 90)\n",
    "    Y(10, 90)\n",
    "    mainloop()"
   ]
  }
 ],
 "metadata": {
  "kernelspec": {
   "display_name": "Python 3",
   "language": "python",
   "name": "python3"
  },
  "language_info": {
   "codemirror_mode": {
    "name": "ipython",
    "version": 3
   },
   "file_extension": ".py",
   "mimetype": "text/x-python",
   "name": "python",
   "nbconvert_exporter": "python",
   "pygments_lexer": "ipython3",
   "version": "3.7.1"
  }
 },
 "nbformat": 4,
 "nbformat_minor": 2
}
