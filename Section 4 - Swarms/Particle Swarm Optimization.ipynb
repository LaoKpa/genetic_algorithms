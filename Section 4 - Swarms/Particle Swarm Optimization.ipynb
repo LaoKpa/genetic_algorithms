{
 "cells": [
  {
   "cell_type": "markdown",
   "metadata": {},
   "source": [
    "# Swarms and  swarm intelligence!\n",
    "\n",
    "Here we are going to implement a nature-snpired swarm and use the K-NN clustering algorithm to group particles together and hopefully find their way put of the bag."
   ]
  },
  {
   "cell_type": "code",
   "execution_count": 1,
   "metadata": {},
   "outputs": [
    {
     "data": {
      "text/html": [
       "<html>\n",
       "   <head>\n",
       "      <title> Particles escaping a paper bag</title>\n",
       "      <script type = \"text/javascript\" scr=\"paperbag.js\"></script>\n",
       "   </head>\n",
       "   <body>\n",
       "      <h1>Can we program our way out of a paper bag?</h1>\n",
       "      <h2>using one particle moving at random</h2>\n",
       "      <canvas id=\"myCanvas\" width=\"600\" height=\"600\">\n",
       "         Your browser does not support the element\n",
       "      </canvas>\n",
       "      <br>\n",
       "      <p id=\"demo\">Let's Try</p>\n",
       "      <button type=\"button\" id=\"Go\" onclick=\"init()\">Start</button>\n",
       "   </body>\n",
       "</html>\n"
      ],
      "text/plain": [
       "<IPython.core.display.HTML object>"
      ]
     },
     "metadata": {},
     "output_type": "display_data"
    }
   ],
   "source": [
    "%%html\n",
    "<html>\n",
    "   <head>\n",
    "      <title> Particles escaping a paper bag</title>\n",
    "      <script type = \"text/javascript\" scr=\"paperbag.js\"></script>\n",
    "   </head>\n",
    "   <body>\n",
    "      <h1>Can we program our way out of a paper bag?</h1>\n",
    "      <h2>using one particle moving at random</h2>\n",
    "      <canvas id=\"myCanvas\" width=\"600\" height=\"600\">\n",
    "         Your browser does not support the element\n",
    "      </canvas>\n",
    "      <br>\n",
    "      <p id=\"demo\">Let's Try</p>\n",
    "      <button type=\"button\" id=\"Go\" onclick=\"init()\">Start</button>\n",
    "   </body>\n",
    "</html>"
   ]
  },
  {
   "cell_type": "code",
   "execution_count": null,
   "metadata": {},
   "outputs": [],
   "source": []
  }
 ],
 "metadata": {
  "kernelspec": {
   "display_name": "Python 3",
   "language": "python",
   "name": "python3"
  },
  "language_info": {
   "codemirror_mode": {
    "name": "ipython",
    "version": 3
   },
   "file_extension": ".py",
   "mimetype": "text/x-python",
   "name": "python",
   "nbconvert_exporter": "python",
   "pygments_lexer": "ipython3",
   "version": "3.7.1"
  }
 },
 "nbformat": 4,
 "nbformat_minor": 2
}
