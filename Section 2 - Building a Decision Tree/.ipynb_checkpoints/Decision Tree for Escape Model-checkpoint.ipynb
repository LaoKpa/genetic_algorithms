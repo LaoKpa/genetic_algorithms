{
 "cells": [
  {
   "cell_type": "markdown",
   "metadata": {},
   "source": [
    "# Decision Trees for Rulesetting\n",
    "\n",
    "We will use a decision tree to determine if the prior data collected in section one is within a specified ruleset and in or out of the bag.\n",
    "\n",
    "While many ML algorithms are considered 'black boxes' a decision tree is much more human readable and allows for us to better determine why it predicts or acts in the way that it does.\n",
    "\n",
    "This exercise falls within the use of supervised machine learning and is using a model we will train on training data to make predicitons."
   ]
  },
  {
   "cell_type": "code",
   "execution_count": 1,
   "metadata": {},
   "outputs": [],
   "source": [
    "data = [['a', 0, 'good'], ['a', 101, 'good'], ['b', -1, 'bad']] #['letter', 'number', 'class']"
   ]
  },
  {
   "cell_type": "markdown",
   "metadata": {},
   "source": [
    "you can see how if you were to classify the 3 data points above as either good or bad, that you could choose to say if letter == a then good or you could choose if number > -1 then good, else bad.\n",
    "\n",
    "Either way this is how decision trees work by splitting hte data into subgroups and using the features provided (like letter and number) to make a prediction on class.\n",
    "\n",
    "As data sets grow larger and features become more plentiful you will need better methods for splittign the tree and accouting for the increase in entropy (the measure of uncertainty) in the model.\n",
    "\n",
    "We can also represent trees with dictionaries shown below."
   ]
  },
  {
   "cell_type": "code",
   "execution_count": 2,
   "metadata": {},
   "outputs": [],
   "source": [
    "tree = {'letter': {'a': 'good', 'b': 'bad'}, 'number':{0: 'good', 101: 'good', -1: 'bad'}}"
   ]
  },
  {
   "cell_type": "code",
   "execution_count": 3,
   "metadata": {},
   "outputs": [
    {
     "data": {
      "text/plain": [
       "'good'"
      ]
     },
     "execution_count": 3,
     "metadata": {},
     "output_type": "execute_result"
    }
   ],
   "source": [
    "tree['letter']['a']"
   ]
  },
  {
   "cell_type": "code",
   "execution_count": 4,
   "metadata": {},
   "outputs": [
    {
     "data": {
      "text/plain": [
       "'bad'"
      ]
     },
     "execution_count": 4,
     "metadata": {},
     "output_type": "execute_result"
    }
   ],
   "source": [
    "tree['letter']['b']"
   ]
  },
  {
   "cell_type": "code",
   "execution_count": 6,
   "metadata": {},
   "outputs": [
    {
     "data": {
      "text/plain": [
       "'good'"
      ]
     },
     "execution_count": 6,
     "metadata": {},
     "output_type": "execute_result"
    }
   ],
   "source": [
    "tree['number'][101] #can replace with 0 or -1; anything else will return a key error since we don't use conditionals yet"
   ]
  },
  {
   "cell_type": "markdown",
   "metadata": {},
   "source": [
    "Now we can sort the data points into groups and push the data point on to the next decision in the tree. \n",
    "\n",
    "Lets first set up a partition over numbers, then a second grouping based on letter to place these datum (singular points of data) into thier final groupings as good or bad."
   ]
  },
  {
   "cell_type": "code",
   "execution_count": 26,
   "metadata": {},
   "outputs": [],
   "source": [
    "good_group = []\n",
    "bad_group = []\n",
    "\n",
    "for key, value in tree.items():\n",
    "    if key == 'number':\n",
    "        for k,v in value.items():\n",
    "            if k > -1:\n",
    "                good_group.append(k)\n",
    "            else:\n",
    "                bad_group.append(k)\n",
    "    if key == 'letter':\n",
    "        for k,v in value.items():\n",
    "            if k == 'a':\n",
    "                good_group.append(k)\n",
    "            else:\n",
    "                bad_group.append(k)\n",
    "        "
   ]
  },
  {
   "cell_type": "code",
   "execution_count": 30,
   "metadata": {},
   "outputs": [
    {
     "name": "stdout",
     "output_type": "stream",
     "text": [
      "['a', 0, 101] ['b', -1]\n"
     ]
    }
   ],
   "source": [
    "print(good_group,bad_group)"
   ]
  },
  {
   "cell_type": "markdown",
   "metadata": {},
   "source": [
    "To figure out the entropy (uncertainty) of our dataset, we use the proportion of our data within each category or feature.\n",
    "\n",
    " $ H_{(entropy)} = - \\sum^n_{i=1} P(X_i) * log_2 P(X_i)  $\n",
    "\n",
    "Log base 2 provides us a range between 0 and 1.\n",
    "\n",
    "Now that we have a basis for understanding entropy and calculating split points, we can attempt to apply this to our data we pickled from section 1."
   ]
  },
  {
   "cell_type": "code",
   "execution_count": 34,
   "metadata": {},
   "outputs": [],
   "source": [
    "import pickle\n",
    "\n",
    "with open('../Section1/data_rand', 'rb') as f:\n",
    "    L = pickle.load(f)"
   ]
  },
  {
   "cell_type": "code",
   "execution_count": 35,
   "metadata": {},
   "outputs": [
    {
     "data": {
      "text/plain": [
       "[[0.0, 0.0, False],\n",
       " [-6.953878909250905, -2.80954945061934, False],\n",
       " [-21.508314803390853, 0.8192789833756753, False],\n",
       " [-35.97103602133799, 18.05527895355268, False],\n",
       " [-38.063730233661744, 47.982200461347404, True],\n",
       " [0.0, 0.0, False],\n",
       " [4.193946776030601, 6.217781794162813, False],\n",
       " [18.61287221510538, 10.352342131417803, False],\n",
       " [39.1676450120639, 1.2007676622123036, True],\n",
       " [0.0, 0.0, False],\n",
       " [-6.14364033216744, -4.301823272632844, False],\n",
       " [-7.45097647338231, 10.641097198743338, False],\n",
       " [12.940948734942312, 1.1321863095776035, False],\n",
       " [-11.633612593727433, -16.07510678095378, False],\n",
       " [-14.901952946764634, 21.28219439748667, False],\n",
       " [25.881897469884617, 2.2643726191552283, False],\n",
       " [-17.123584855287408, -27.848390289274725, False],\n",
       " [-22.352929420146967, 31.92329159622998, False],\n",
       " [38.82284620482692, 3.3965589287328655, True],\n",
       " [0.0, 0.0, False],\n",
       " [2.0672801686274953, -7.209462719537391, False],\n",
       " [-2.067280168627497, 7.209462719537391, False],\n",
       " [4.134560337254994, -14.41892543907478, False],\n",
       " [-4.134560337254998, 14.418925439074783, False],\n",
       " [6.201840505882496, -21.628388158612168, False],\n",
       " [-6.201840505882501, 21.628388158612175, False],\n",
       " [8.269120674510003, -28.83785087814956, False],\n",
       " [-8.269120674510006, 28.837850878149567, False],\n",
       " [10.336400843137511, -36.04731359768695, True],\n",
       " [0.0, 0.0, False],\n",
       " [7.20946271953739, -2.0672801686274984, False],\n",
       " [7.732955170074895, -17.058142573913937, False],\n",
       " [-13.41012879760805, -24.753595798741472, False],\n",
       " [-31.879973057377786, -1.1132731905398003, False],\n",
       " [-10.910239177224764, 29.975635780274253, False],\n",
       " [32.34653713999958, 17.571954768509272, False],\n",
       " [34.178760716880866, -34.89606364999325, False],\n",
       " [-22.202796530273645, -55.417272249533355, True],\n",
       " [0.0, 0.0, False],\n",
       " [2.317627457812104, -7.132923872213652, False],\n",
       " [-2.317627457812106, 7.132923872213652, False],\n",
       " [4.635254915624211, -14.265847744427305, False],\n",
       " [-4.635254915624216, 14.265847744427305, False],\n",
       " [6.952882373436321, -21.398771616640957, False],\n",
       " [-6.95288237343633, 21.398771616640957, False],\n",
       " [9.270509831248434, -28.53169548885461, False],\n",
       " [-9.270509831248445, 28.53169548885461, False],\n",
       " [11.588137289060553, -35.66461936106826, False],\n",
       " [-11.588137289060564, 35.66461936106826, False],\n",
       " [13.905764746872675, -42.797543233281914, True],\n",
       " [0.0, 0.0, False],\n",
       " [-6.622106946441952, -3.5210367208941813, False],\n",
       " [-17.412203951521718, 6.898838835990776, False],\n",
       " [-7.548853148767481, 27.121704877722035, False],\n",
       " [22.159188913479625, 22.946511848920082, False],\n",
       " [28.670995575989526, -13.983778889037715, False],\n",
       " [-11.061646102662177, -35.10999921440281, False],\n",
       " [-48.82698562044138, 1.3595652346945286, True],\n",
       " [0.0, 0.0, False],\n",
       " [6.360360721173195, 3.974394481749037, False],\n",
       " [20.975911692951723, 0.6001286665910612, False],\n",
       " [32.89909513819883, -18.480953496928525, False],\n",
       " [26.15056350788288, -47.712055440485585, True],\n",
       " [0.0, 0.0, False],\n",
       " [7.36220387585748, -1.431067465324085, False],\n",
       " [-7.36220387585748, 1.4310674653240836, False],\n",
       " [14.724407751714958, -2.862134930648166, False],\n",
       " [-14.724407751714962, 2.862134930648164, False],\n",
       " [22.086611627572438, -4.293202395972244, False],\n",
       " [-22.086611627572438, 4.293202395972241, False],\n",
       " [29.44881550342992, -5.724269861296319, False],\n",
       " [-29.44881550342992, 5.724269861296314, False],\n",
       " [36.811019379287394, -7.155337326620391, True],\n",
       " [0.0, 0.0, False],\n",
       " [-7.36220387585748, -1.4310674653240854, False],\n",
       " [7.36220387585748, 1.4310674653240871, False],\n",
       " [-14.724407751714958, -2.862134930648174, False],\n",
       " [14.724407751714962, 2.8621349306481774, False],\n",
       " [-22.086611627572438, -4.2932023959722665, False],\n",
       " [22.086611627572438, 4.293202395972272, False],\n",
       " [-29.44881550342992, -5.724269861296361, False],\n",
       " [29.44881550342992, 5.72426986129637, False],\n",
       " [-36.811019379287394, -7.155337326620459, True]]"
      ]
     },
     "execution_count": 35,
     "metadata": {},
     "output_type": "execute_result"
    }
   ],
   "source": [
    "L #[X,Y,Out of the box or not]"
   ]
  },
  {
   "cell_type": "code",
   "execution_count": 32,
   "metadata": {},
   "outputs": [],
   "source": [
    "import collections\n",
    "import math\n",
    "import operator\n",
    "\n",
    "def entropy(data):\n",
    "    frequency = collections.Counter([item[-1] for item in data]) # output == ({False: 73, True: 10})\n",
    "    def item_entropy(category):\n",
    "        ratio = float(category)/len(data) #ratio of category to len of dataset\n",
    "        return -1 * ratio * math.log2(ratio) #neg log base 2 of this item\n",
    "    return sum(item_entropy(c) for c in frequency.values()) #sum it all up to return entropy"
   ]
  },
  {
   "cell_type": "code",
   "execution_count": 74,
   "metadata": {},
   "outputs": [
    {
     "name": "stdout",
     "output_type": "stream",
     "text": [
      "0.530744566923854\n"
     ]
    }
   ],
   "source": [
    "print(entropy(L))"
   ]
  },
  {
   "cell_type": "code",
   "execution_count": 83,
   "metadata": {},
   "outputs": [],
   "source": [
    "def best_feature_for_split(data):\n",
    "    baseline = entropy(data)\n",
    "    def feature_entropy(f):\n",
    "        def e(v):\n",
    "            partitioned_data = [d for d in data if d[f] == v]\n",
    "            proportion = (float(len(partitioned_data)) / float(len(data)))\n",
    "            return proportion * entropy(partitioned_data)\n",
    "        return sum(e(v) for v in set([d[f] for d in data]))\n",
    "    features = len(data[0]) - 1\n",
    "    informaiton_gain = [baseline - feature_entropy(f) for f in range(features)]\n",
    "    best_feature, best_gain = max(enumerate(informaiton_gain), key=operator.itemgetter(1))\n",
    "    return best_feature"
   ]
  },
  {
   "cell_type": "code",
   "execution_count": 84,
   "metadata": {},
   "outputs": [
    {
     "data": {
      "text/plain": [
       "0"
      ]
     },
     "execution_count": 84,
     "metadata": {},
     "output_type": "execute_result"
    }
   ],
   "source": [
    "best_feature_for_split(L)"
   ]
  },
  {
   "cell_type": "code",
   "execution_count": 85,
   "metadata": {},
   "outputs": [],
   "source": [
    "def potential_leaf_node(data):\n",
    "    '''\n",
    "    returns a tuple of the most common category and a count (category, count)\n",
    "    '''\n",
    "    count = collections.Counter([i[-1] for i in data])\n",
    "    return count.most_common(1)[0]"
   ]
  },
  {
   "cell_type": "code",
   "execution_count": 86,
   "metadata": {},
   "outputs": [
    {
     "data": {
      "text/plain": [
       "(False, 73)"
      ]
     },
     "execution_count": 86,
     "metadata": {},
     "output_type": "execute_result"
    }
   ],
   "source": [
    "potential_leaf_node(L)"
   ]
  },
  {
   "cell_type": "code",
   "execution_count": 81,
   "metadata": {},
   "outputs": [],
   "source": [
    "def create_tree(data, label):\n",
    "    category, count = potential_leaf_node(data)\n",
    "    if count == len(data):\n",
    "        return category\n",
    "    node = {}\n",
    "    feature = best_feature_for_split(data)\n",
    "    feature_label = label[feature]\n",
    "    node[feature_label] = {}\n",
    "    classes = set([d[feature] for d in data])\n",
    "    for c  in classes:\n",
    "        partitioned_data = [d for d in data if d[feature] == c]\n",
    "        node[feature_label][c] = create_tree(partitioned_data, label)\n",
    "    return node"
   ]
  },
  {
   "cell_type": "code",
   "execution_count": 116,
   "metadata": {},
   "outputs": [],
   "source": [
    "def classify(tree, label, data):\n",
    "    root = list(tree.keys())[0]\n",
    "    node = tree[root]\n",
    "    index = label.index(root)\n",
    "    for k in node.keys():\n",
    "        if data[index] == k:\n",
    "            if isinstance(node[k],dict):\n",
    "                return classify(node[k], label, data)\n",
    "            else:\n",
    "                return node[k]"
   ]
  },
  {
   "cell_type": "code",
   "execution_count": 110,
   "metadata": {},
   "outputs": [],
   "source": [
    "def as_rule_str(tree, label, ident=0):\n",
    "    space_ident = '  ' * ident\n",
    "    s = space_ident\n",
    "    root = list(tree.keys())[0]\n",
    "    node = tree[root]\n",
    "    index = label.index(root)\n",
    "    for k in node.keys():\n",
    "        s += 'if ' + label[index] + ' = ' + str(k)\n",
    "        if isinstance(node[k], dict):\n",
    "            s += ':\\n' + space_ident + as_rule_str(node[k], label, idnet + 1)\n",
    "        else:\n",
    "            s += ' then ' + str(node[k]) + ('.\\n' if ident == 0 else ', ')\n",
    "    if s[-2:] == ', ':\n",
    "        s = s[:2]\n",
    "    s+= '\\n'\n",
    "    return s"
   ]
  },
  {
   "cell_type": "code",
   "execution_count": 111,
   "metadata": {},
   "outputs": [],
   "source": [
    "data = [[0,0, False], [1,0,False], [0,1,True], [1,1,True]]\n",
    "label = ['x','y','out']"
   ]
  },
  {
   "cell_type": "code",
   "execution_count": 112,
   "metadata": {},
   "outputs": [],
   "source": [
    "tree =  create_tree(data, label)"
   ]
  },
  {
   "cell_type": "code",
   "execution_count": 114,
   "metadata": {},
   "outputs": [
    {
     "name": "stdout",
     "output_type": "stream",
     "text": [
      "if y = 0 then False.\n",
      "if y = 1 then True.\n",
      "\n",
      "\n"
     ]
    }
   ],
   "source": [
    "print(as_rule_str(tree, label))"
   ]
  },
  {
   "cell_type": "code",
   "execution_count": 117,
   "metadata": {},
   "outputs": [
    {
     "name": "stdout",
     "output_type": "stream",
     "text": [
      "True\n",
      "False\n",
      "None\n",
      "None\n",
      "None\n"
     ]
    }
   ],
   "source": [
    "print(classify(tree, label, [1,1]))\n",
    "print(classify(tree, label, [0,0]))\n",
    "print(classify(tree, label, [1,2])) # cant classify what it hasn't seen\n",
    "print(classify(tree, label, [3,4])) # cant classify what it hasn't seen\n",
    "print(classify(tree, label, [-1,-1])) # cant classify what it hasn't seen"
   ]
  },
  {
   "cell_type": "code",
   "execution_count": 118,
   "metadata": {},
   "outputs": [],
   "source": [
    "tree = create_tree(L, label)"
   ]
  },
  {
   "cell_type": "code",
   "execution_count": 119,
   "metadata": {},
   "outputs": [
    {
     "name": "stdout",
     "output_type": "stream",
     "text": [
      "if x = 0.0 then False.\n",
      "if x = 2.0672801686274953 then False.\n",
      "if x = 2.317627457812104 then False.\n",
      "if x = 4.193946776030601 then False.\n",
      "if x = 4.134560337254994 then False.\n",
      "if x = 6.201840505882496 then False.\n",
      "if x = 7.20946271953739 then False.\n",
      "if x = 8.269120674510003 then False.\n",
      "if x = 7.732955170074895 then False.\n",
      "if x = 10.336400843137511 then True.\n",
      "if x = 4.635254915624211 then False.\n",
      "if x = 12.940948734942312 then False.\n",
      "if x = 6.952882373436321 then False.\n",
      "if x = 9.270509831248434 then False.\n",
      "if x = 11.588137289060553 then False.\n",
      "if x = 13.905764746872675 then True.\n",
      "if x = 14.724407751714958 then False.\n",
      "if x = 18.61287221510538 then False.\n",
      "if x = 14.724407751714962 then False.\n",
      "if x = 20.975911692951723 then False.\n",
      "if x = -2.317627457812106 then False.\n",
      "if x = 22.159188913479625 then False.\n",
      "if x = 22.086611627572438 then False.\n",
      "if x = 25.881897469884617 then False.\n",
      "if x = 26.15056350788288 then True.\n",
      "if x = 28.670995575989526 then False.\n",
      "if x = 29.44881550342992 then False.\n",
      "if x = 32.34653713999958 then False.\n",
      "if x = 32.89909513819883 then False.\n",
      "if x = 34.178760716880866 then False.\n",
      "if x = -6.622106946441952 then False.\n",
      "if x = 7.36220387585748 then False.\n",
      "if x = 36.811019379287394 then True.\n",
      "if x = 38.82284620482692 then True.\n",
      "if x = 39.1676450120639 then True.\n",
      "if x = -14.724407751714958 then False.\n",
      "if x = -48.82698562044138 then True.\n",
      "if x = -38.063730233661744 then True.\n",
      "if x = -36.811019379287394 then True.\n",
      "if x = -35.97103602133799 then False.\n",
      "if x = -7.548853148767481 then False.\n",
      "if x = 6.360360721173195 then False.\n",
      "if x = -7.36220387585748 then False.\n",
      "if x = -31.879973057377786 then False.\n",
      "if x = -6.14364033216744 then False.\n",
      "if x = -6.201840505882501 then False.\n",
      "if x = -6.95288237343633 then False.\n",
      "if x = -29.44881550342992 then False.\n",
      "if x = -22.352929420146967 then False.\n",
      "if x = -21.508314803390853 then False.\n",
      "if x = -22.202796530273645 then True.\n",
      "if x = -4.635254915624216 then False.\n",
      "if x = -22.086611627572438 then False.\n",
      "if x = -17.123584855287408 then False.\n",
      "if x = -17.412203951521718 then False.\n",
      "if x = -14.901952946764634 then False.\n",
      "if x = -13.41012879760805 then False.\n",
      "if x = -14.724407751714962 then False.\n",
      "if x = -11.633612593727433 then False.\n",
      "if x = -10.910239177224764 then False.\n",
      "if x = -9.270509831248445 then False.\n",
      "if x = -8.269120674510006 then False.\n",
      "if x = -7.45097647338231 then False.\n",
      "if x = -6.953878909250905 then False.\n",
      "if x = -11.588137289060564 then False.\n",
      "if x = -4.134560337254998 then False.\n",
      "if x = -11.061646102662177 then False.\n",
      "if x = -2.067280168627497 then False.\n",
      "\n",
      "\n"
     ]
    }
   ],
   "source": [
    "print(as_rule_str(tree, label))"
   ]
  },
  {
   "cell_type": "markdown",
   "metadata": {},
   "source": [
    "That is a ton of rules if we use the data from our prior section. We need to generalize ther rules."
   ]
  },
  {
   "cell_type": "code",
   "execution_count": 135,
   "metadata": {},
   "outputs": [],
   "source": [
    "X = []\n",
    "Y = []\n",
    "for i in L:\n",
    "    X.append(i[0])\n",
    "    Y.append(i[1])"
   ]
  },
  {
   "cell_type": "code",
   "execution_count": 141,
   "metadata": {},
   "outputs": [],
   "source": [
    "def find_edges(tree, label, X, Y):\n",
    "    X.sort()\n",
    "    Y.sort()\n",
    "    diagonals = [i for i in set(X).intersection(set(Y))]\n",
    "    diagonals.sort()\n",
    "    L = [classify(tree, label, [d,d]) for d in diagonals]\n",
    "    low = L.index(False)\n",
    "    min_x = X[low]\n",
    "    min_y = Y[low]\n",
    "    high = L[::-1].index(False)\n",
    "    max_x = X[len(X)-1 - high]\n",
    "    max_y = Y[len(Y)-1 - high]\n",
    "    \n",
    "    return (min_x, min_y), (max_x, max_y)"
   ]
  },
  {
   "cell_type": "code",
   "execution_count": 148,
   "metadata": {},
   "outputs": [
    {
     "data": {
      "text/plain": [
       "((-48.82698562044138, -55.417272249533355),\n",
       " (39.1676450120639, 47.982200461347404))"
      ]
     },
     "execution_count": 148,
     "metadata": {},
     "output_type": "execute_result"
    }
   ],
   "source": [
    "find_edges(tree, label, X, Y) # you can use this to create a new rule to classify a point."
   ]
  },
  {
   "cell_type": "code",
   "execution_count": 163,
   "metadata": {},
   "outputs": [],
   "source": [
    "def new_classifier(tree, label, data, pred_point):\n",
    "    X = []\n",
    "    Y = []\n",
    "    for i in data:\n",
    "        X.append(i[0])\n",
    "        Y.append(i[1])\n",
    "    min_x = find_edges(tree, label, X, Y)[0][0]\n",
    "    min_y = find_edges(tree, label, X, Y)[0][1]\n",
    "    max_x = find_edges(tree, label, X, Y)[1][0]\n",
    "    max_y = find_edges(tree, label, X, Y)[1][1]\n",
    "    x = pred_point[0]\n",
    "    y = pred_point[1]\n",
    "    if (min_x < x < max_x) and (min_y < y < max_y): \n",
    "        return 'Inside', True\n",
    "    else:\n",
    "        return 'Outside', False\n",
    "    "
   ]
  },
  {
   "cell_type": "code",
   "execution_count": 164,
   "metadata": {},
   "outputs": [
    {
     "data": {
      "text/plain": [
       "('Inside', True)"
      ]
     },
     "execution_count": 164,
     "metadata": {},
     "output_type": "execute_result"
    }
   ],
   "source": [
    "new_classifier(tree, label, L, [-5, 5]) #change points around to see if it's within or outside the bounds"
   ]
  },
  {
   "cell_type": "markdown",
   "metadata": {},
   "source": [
    "We now have a new classifier that uses the edges found from our training data to determin the bounding box for our decision tree!"
   ]
  },
  {
   "cell_type": "code",
   "execution_count": null,
   "metadata": {},
   "outputs": [],
   "source": []
  }
 ],
 "metadata": {
  "kernelspec": {
   "display_name": "Python 3",
   "language": "python",
   "name": "python3"
  },
  "language_info": {
   "codemirror_mode": {
    "name": "ipython",
    "version": 3
   },
   "file_extension": ".py",
   "mimetype": "text/x-python",
   "name": "python",
   "nbconvert_exporter": "python",
   "pygments_lexer": "ipython3",
   "version": "3.7.1"
  }
 },
 "nbformat": 4,
 "nbformat_minor": 2
}
