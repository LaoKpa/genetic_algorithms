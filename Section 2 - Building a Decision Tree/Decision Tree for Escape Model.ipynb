{
 "cells": [
  {
   "cell_type": "markdown",
   "metadata": {},
   "source": [
    "# Decision Trees for Rulesetting\n",
    "\n",
    "We will use a decision tree to determine if the prior data collected in section one is within a specified ruleset and in or out of the bag.\n",
    "\n",
    "While many ML algorithms are considered 'black boxes' a decision tree is much more human readable and allows for us to better determine why it predicts or acts in the way that it does.\n",
    "\n",
    "This exercise falls within the use of supervised machine learning and is using a model we will train on training data to make predicitons."
   ]
  },
  {
   "cell_type": "code",
   "execution_count": 1,
   "metadata": {},
   "outputs": [],
   "source": [
    "data = [['a', 0, 'good'], ['a', 101, 'good'], ['b', -1, 'bad']] #['letter', 'number', 'class']"
   ]
  },
  {
   "cell_type": "markdown",
   "metadata": {},
   "source": [
    "you can see how if you were to classify the 3 data points above as either good or bad, that you could choose to say if letter == a then good or you could choose if number > -1 then good, else bad.\n",
    "\n",
    "Either way this is how decision trees work by splitting hte data into subgroups and using the features provided (like letter and number) to make a prediction on class.\n",
    "\n",
    "As data sets grow larger and features become more plentiful you will need better methods for splittign the tree and accouting for the increase in entropy (the measure of uncertainty) in the model.\n",
    "\n",
    "We can also represent trees with dictionaries shown below."
   ]
  },
  {
   "cell_type": "code",
   "execution_count": 2,
   "metadata": {},
   "outputs": [],
   "source": [
    "tree = {'letter': {'a': 'good', 'b': 'bad'}, 'number':{0: 'good', 101: 'good', -1: 'bad'}}"
   ]
  },
  {
   "cell_type": "code",
   "execution_count": 3,
   "metadata": {},
   "outputs": [
    {
     "data": {
      "text/plain": [
       "'good'"
      ]
     },
     "execution_count": 3,
     "metadata": {},
     "output_type": "execute_result"
    }
   ],
   "source": [
    "tree['letter']['a']"
   ]
  },
  {
   "cell_type": "code",
   "execution_count": 4,
   "metadata": {},
   "outputs": [
    {
     "data": {
      "text/plain": [
       "'bad'"
      ]
     },
     "execution_count": 4,
     "metadata": {},
     "output_type": "execute_result"
    }
   ],
   "source": [
    "tree['letter']['b']"
   ]
  },
  {
   "cell_type": "code",
   "execution_count": 9,
   "metadata": {},
   "outputs": [
    {
     "data": {
      "text/plain": [
       "'bad'"
      ]
     },
     "execution_count": 9,
     "metadata": {},
     "output_type": "execute_result"
    }
   ],
   "source": [
    "tree['number'][-1] #can replace with 0 or -1; anything else will return a key error since we don't use conditionals yet"
   ]
  },
  {
   "cell_type": "markdown",
   "metadata": {},
   "source": [
    "Now we can sort the data points into groups and push the data point on to the next decision in the tree. \n",
    "\n",
    "Lets first set up a partition over numbers, then a second grouping based on letter to place these datum (singular points of data) into thier final groupings as good or bad."
   ]
  },
  {
   "cell_type": "code",
   "execution_count": 10,
   "metadata": {},
   "outputs": [],
   "source": [
    "good_group = []\n",
    "bad_group = []\n",
    "\n",
    "for key, value in tree.items():\n",
    "    if key == 'number':\n",
    "        for k,v in value.items():\n",
    "            if k > -1:\n",
    "                good_group.append(k)\n",
    "            else:\n",
    "                bad_group.append(k)\n",
    "    if key == 'letter':\n",
    "        for k,v in value.items():\n",
    "            if k == 'a':\n",
    "                good_group.append(k)\n",
    "            else:\n",
    "                bad_group.append(k)\n",
    "        "
   ]
  },
  {
   "cell_type": "code",
   "execution_count": 11,
   "metadata": {},
   "outputs": [
    {
     "name": "stdout",
     "output_type": "stream",
     "text": [
      "['a', 0, 101] ['b', -1]\n"
     ]
    }
   ],
   "source": [
    "print(good_group,bad_group)"
   ]
  },
  {
   "cell_type": "markdown",
   "metadata": {},
   "source": [
    "To figure out the entropy (uncertainty) of our dataset, we use the proportion of our data within each category or feature.\n",
    "\n",
    " $ H_{(entropy)} = - \\sum^n_{i=1} P(X_i) * log_2 P(X_i)  $\n",
    "\n",
    "Log base 2 provides us a range between 0 and 1.\n",
    "\n",
    "Now that we have a basis for understanding entropy and calculating split points, we can attempt to apply this to our data we pickled from section 1."
   ]
  },
  {
   "cell_type": "code",
   "execution_count": 12,
   "metadata": {},
   "outputs": [],
   "source": [
    "import pickle\n",
    "\n",
    "with open('../Section 1 - Code a Turtle Out of a Bag/data_rand', 'rb') as f:\n",
    "    L = pickle.load(f)"
   ]
  },
  {
   "cell_type": "code",
   "execution_count": 13,
   "metadata": {},
   "outputs": [
    {
     "data": {
      "text/plain": [
       "[[0.0, 0.0, False],\n",
       " [-5.485152762143779, 5.114987700468738, False],\n",
       " [-16.455458286431337, 15.344963101406211, False],\n",
       " [-32.91091657286268, 30.689926202812416, False],\n",
       " [-54.85152762143782, 51.149877004687355, True],\n",
       " [0.0, 0.0, False],\n",
       " [-6.797308402774876, -3.1696369630552446, False],\n",
       " [-19.084589067109754, 5.434009582210445, False],\n",
       " [-17.12358485528745, 27.848390289274718, False],\n",
       " [10.065648755812045, 40.526938141495705, True],\n",
       " [0.0, 0.0, False],\n",
       " [-1.5593376811331934, 7.336107005503543, False],\n",
       " [13.112876329873892, 10.45478236776993, False],\n",
       " [17.790889373273473, -11.553538648740698, False],\n",
       " [-11.553538648740698, -17.790889373273476, False],\n",
       " [-19.350227054406673, 18.889645654244237, False],\n",
       " [24.666414978614583, 28.24567174104341, False],\n",
       " [35.58177874654695, -23.10707729748139, False],\n",
       " [-23.10707729748139, -35.58177874654696, False],\n",
       " [-37.14111642768016, 30.443184302984932, True],\n",
       " [0.0, 0.0, False],\n",
       " [0.13089304827962348, -7.498857713672934, False],\n",
       " [-14.866822379066244, -7.760643810232182, False],\n",
       " [-15.259501523905117, 14.735929330786622, False],\n",
       " [14.73592933078662, 15.259501523905122, False],\n",
       " [15.390394572184746, -22.23478704445955, False],\n",
       " [-29.60275170985286, -23.020145334137307, False],\n",
       " [-30.519003047810244, 29.471858661573233, False],\n",
       " [29.47185866157323, 30.519003047810248, False],\n",
       " [30.649896096089876, -36.97071637524617, True],\n",
       " [0.0, 0.0, False],\n",
       " [0.7839634745073975, -7.458914215262051, False],\n",
       " [-12.91921839013162, -13.559963861399048, False],\n",
       " [-27.974657033205922, 3.1607947118423283, False],\n",
       " [-12.974657033205915, 29.14155682537548, False],\n",
       " [23.70587799431179, 21.3448684197095, False],\n",
       " [28.409658841356187, -23.408616871862797, False],\n",
       " [-19.551477684880357, -44.762290633342296, True],\n",
       " [0.0, 0.0, False],\n",
       " [-7.277217947069974, 1.814414216997508, False],\n",
       " [-16.09399673145707, 13.949669132621718, False],\n",
       " [-14.52447607221426, 36.39486026346776, True],\n",
       " [0.0, 0.0, False],\n",
       " [6.143640332167439, 4.301823272632845, False],\n",
       " [-6.143640332167437, -4.301823272632847, False],\n",
       " [12.287280664334876, 8.603646545265695, False],\n",
       " [-12.287280664334869, -8.603646545265695, False],\n",
       " [18.43092099650231, 12.905469817898547, False],\n",
       " [-18.430920996502294, -12.90546981789855, False],\n",
       " [24.574561328669738, 17.2072930905314, False],\n",
       " [-24.574561328669724, -17.207293090531408, False],\n",
       " [30.71820166083716, 21.50911636316426, False],\n",
       " [-30.718201660837153, -21.509116363164267, False],\n",
       " [36.861841993004575, 25.810939635797126, True],\n",
       " [0.0, 0.0, False],\n",
       " [1.0437982572004927, 7.4270105155617765, False],\n",
       " [11.463673814085455, 18.21710752064154, False],\n",
       " [33.62184825686014, 22.12419151814747, False],\n",
       " [60.585669645835154, 8.973057114475141, True],\n",
       " [0.0, 0.0, False],\n",
       " [-7.407662554463532, 1.1732584878017323, False],\n",
       " [-12.783181797643035, 15.176964885259757, False],\n",
       " [1.376527000978303, 32.6627490180416, False],\n",
       " [31.007177218832435, 27.969715066834684, False],\n",
       " [44.44597532678121, -7.039550926810374, True],\n",
       " [0.0, 0.0, False],\n",
       " [0.9140200755386061, 7.444096137309915, False],\n",
       " [15.638427827253564, 10.306231067958088, False],\n",
       " [26.546644282796144, -9.372712342678316, False],\n",
       " [6.086693480921191, -31.31332339125343, False],\n",
       " [-27.89984853295318, -15.465138575977203, False],\n",
       " [-22.415728079721546, 29.19943824788228, False],\n",
       " [29.119699051280804, 39.216910505150885, True]]"
      ]
     },
     "execution_count": 13,
     "metadata": {},
     "output_type": "execute_result"
    }
   ],
   "source": [
    "L #[X,Y,Out of the box or not]"
   ]
  },
  {
   "cell_type": "code",
   "execution_count": 14,
   "metadata": {},
   "outputs": [],
   "source": [
    "def escaped_turtles(data):\n",
    "    turtle_list = []\n",
    "    for i in range(len(data)):\n",
    "        if data[i][-1] == True:\n",
    "            turtle_list.append(data[i][:-1])\n",
    "    return turtle_list"
   ]
  },
  {
   "cell_type": "code",
   "execution_count": 15,
   "metadata": {},
   "outputs": [],
   "source": [
    "import collections\n",
    "import math\n",
    "import operator\n",
    "\n",
    "def entropy(data):\n",
    "    frequency = collections.Counter([item[-1] for item in data]) # output == ({False: 73, True: 10})\n",
    "    def item_entropy(category):\n",
    "        ratio = float(category)/len(data) #ratio of category to len of dataset\n",
    "        return -1 * ratio * math.log2(ratio) #neg log base 2 of this item\n",
    "    return sum(item_entropy(c) for c in frequency.values()) #sum it all up to return entropy"
   ]
  },
  {
   "cell_type": "code",
   "execution_count": 16,
   "metadata": {},
   "outputs": [
    {
     "name": "stdout",
     "output_type": "stream",
     "text": [
      "0.5762914612174369\n"
     ]
    }
   ],
   "source": [
    "print(entropy(L))"
   ]
  },
  {
   "cell_type": "code",
   "execution_count": 17,
   "metadata": {},
   "outputs": [],
   "source": [
    "def best_feature_for_split(data):\n",
    "    baseline = entropy(data)\n",
    "    def feature_entropy(f):\n",
    "        def e(v):\n",
    "            partitioned_data = [d for d in data if d[f] == v]\n",
    "            proportion = (float(len(partitioned_data)) / float(len(data)))\n",
    "            return proportion * entropy(partitioned_data)\n",
    "        return sum(e(v) for v in set([d[f] for d in data]))\n",
    "    features = len(data[0]) - 1\n",
    "    informaiton_gain = [baseline - feature_entropy(f) for f in range(features)]\n",
    "    best_feature, best_gain = max(enumerate(informaiton_gain), key=operator.itemgetter(1))\n",
    "    return best_feature"
   ]
  },
  {
   "cell_type": "code",
   "execution_count": 18,
   "metadata": {},
   "outputs": [
    {
     "data": {
      "text/plain": [
       "0"
      ]
     },
     "execution_count": 18,
     "metadata": {},
     "output_type": "execute_result"
    }
   ],
   "source": [
    "best_feature_for_split(L)"
   ]
  },
  {
   "cell_type": "code",
   "execution_count": 19,
   "metadata": {},
   "outputs": [],
   "source": [
    "def potential_leaf_node(data):\n",
    "    '''\n",
    "    returns a tuple of the most common category and a count (category, count)\n",
    "    '''\n",
    "    count = collections.Counter([i[-1] for i in data])\n",
    "    return count.most_common(1)[0]"
   ]
  },
  {
   "cell_type": "code",
   "execution_count": 20,
   "metadata": {},
   "outputs": [
    {
     "data": {
      "text/plain": [
       "(False, 63)"
      ]
     },
     "execution_count": 20,
     "metadata": {},
     "output_type": "execute_result"
    }
   ],
   "source": [
    "potential_leaf_node(L)"
   ]
  },
  {
   "cell_type": "code",
   "execution_count": 21,
   "metadata": {},
   "outputs": [],
   "source": [
    "def create_tree(data, label):\n",
    "    category, count = potential_leaf_node(data)\n",
    "    if count == len(data):\n",
    "        return category\n",
    "    node = {}\n",
    "    feature = best_feature_for_split(data)\n",
    "    feature_label = label[feature]\n",
    "    node[feature_label] = {}\n",
    "    classes = set([d[feature] for d in data])\n",
    "    for c  in classes:\n",
    "        partitioned_data = [d for d in data if d[feature] == c]\n",
    "        node[feature_label][c] = create_tree(partitioned_data, label)\n",
    "    return node"
   ]
  },
  {
   "cell_type": "code",
   "execution_count": 22,
   "metadata": {},
   "outputs": [],
   "source": [
    "def classify(tree, label, data):\n",
    "    root = list(tree.keys())[0]\n",
    "    node = tree[root]\n",
    "    index = label.index(root)\n",
    "    for k in node.keys():\n",
    "        if data[index] == k:\n",
    "            if isinstance(node[k],dict):\n",
    "                return classify(node[k], label, data)\n",
    "            else:\n",
    "                return node[k]"
   ]
  },
  {
   "cell_type": "code",
   "execution_count": 23,
   "metadata": {},
   "outputs": [],
   "source": [
    "def as_rule_str(tree, label, ident=0):\n",
    "    space_ident = '  ' * ident\n",
    "    s = space_ident\n",
    "    root = list(tree.keys())[0]\n",
    "    node = tree[root]\n",
    "    index = label.index(root)\n",
    "    for k in node.keys():\n",
    "        s += 'if ' + label[index] + ' = ' + str(k)\n",
    "        if isinstance(node[k], dict):\n",
    "            s += ':\\n' + space_ident + as_rule_str(node[k], label, idnet + 1)\n",
    "        else:\n",
    "            s += ' then ' + str(node[k]) + ('.\\n' if ident == 0 else ', ')\n",
    "    if s[-2:] == ', ':\n",
    "        s = s[:2]\n",
    "    s+= '\\n'\n",
    "    return s"
   ]
  },
  {
   "cell_type": "code",
   "execution_count": 24,
   "metadata": {},
   "outputs": [],
   "source": [
    "data = [[0,0, False], [1,0,False], [0,1,True], [1,1,True]]\n",
    "label = ['x','y','out']"
   ]
  },
  {
   "cell_type": "code",
   "execution_count": 25,
   "metadata": {},
   "outputs": [],
   "source": [
    "tree =  create_tree(data, label)"
   ]
  },
  {
   "cell_type": "code",
   "execution_count": 26,
   "metadata": {},
   "outputs": [
    {
     "name": "stdout",
     "output_type": "stream",
     "text": [
      "if y = 0 then False.\n",
      "if y = 1 then True.\n",
      "\n",
      "\n"
     ]
    }
   ],
   "source": [
    "print(as_rule_str(tree, label))"
   ]
  },
  {
   "cell_type": "code",
   "execution_count": 27,
   "metadata": {},
   "outputs": [
    {
     "name": "stdout",
     "output_type": "stream",
     "text": [
      "True\n",
      "False\n",
      "None\n",
      "None\n",
      "None\n"
     ]
    }
   ],
   "source": [
    "print(classify(tree, label, [1,1]))\n",
    "print(classify(tree, label, [0,0]))\n",
    "print(classify(tree, label, [1,2])) # cant classify what it hasn't seen\n",
    "print(classify(tree, label, [3,4])) # cant classify what it hasn't seen\n",
    "print(classify(tree, label, [-1,-1])) # cant classify what it hasn't seen"
   ]
  },
  {
   "cell_type": "code",
   "execution_count": 28,
   "metadata": {},
   "outputs": [],
   "source": [
    "tree = create_tree(L, label)"
   ]
  },
  {
   "cell_type": "code",
   "execution_count": 29,
   "metadata": {},
   "outputs": [
    {
     "name": "stdout",
     "output_type": "stream",
     "text": [
      "if x = 0.0 then False.\n",
      "if x = 0.7839634745073975 then False.\n",
      "if x = 1.0437982572004927 then False.\n",
      "if x = 1.376527000978303 then False.\n",
      "if x = 0.9140200755386061 then False.\n",
      "if x = 6.143640332167439 then False.\n",
      "if x = 6.086693480921191 then False.\n",
      "if x = 10.065648755812045 then True.\n",
      "if x = 11.463673814085455 then False.\n",
      "if x = 12.287280664334876 then False.\n",
      "if x = 13.112876329873892 then False.\n",
      "if x = 14.73592933078662 then False.\n",
      "if x = 15.390394572184746 then False.\n",
      "if x = 15.638427827253564 then False.\n",
      "if x = 17.790889373273473 then False.\n",
      "if x = 18.43092099650231 then False.\n",
      "if x = 29.119699051280804 then True.\n",
      "if x = 23.70587799431179 then False.\n",
      "if x = 24.666414978614583 then False.\n",
      "if x = 24.574561328669738 then False.\n",
      "if x = 26.546644282796144 then False.\n",
      "if x = 28.409658841356187 then False.\n",
      "if x = 29.47185866157323 then False.\n",
      "if x = 30.649896096089876 then True.\n",
      "if x = 30.71820166083716 then False.\n",
      "if x = -7.407662554463532 then False.\n",
      "if x = 33.62184825686014 then False.\n",
      "if x = -6.143640332167437 then False.\n",
      "if x = 35.58177874654695 then False.\n",
      "if x = 36.861841993004575 then True.\n",
      "if x = 31.007177218832435 then False.\n",
      "if x = -18.430920996502294 then False.\n",
      "if x = 44.44597532678121 then True.\n",
      "if x = 60.585669645835154 then True.\n",
      "if x = 0.13089304827962348 then False.\n",
      "if x = -54.85152762143782 then True.\n",
      "if x = -37.14111642768016 then True.\n",
      "if x = -32.91091657286268 then False.\n",
      "if x = -30.519003047810244 then False.\n",
      "if x = -29.60275170985286 then False.\n",
      "if x = -30.718201660837153 then False.\n",
      "if x = -27.974657033205922 then False.\n",
      "if x = -27.89984853295318 then False.\n",
      "if x = -24.574561328669724 then False.\n",
      "if x = -23.10707729748139 then False.\n",
      "if x = -22.415728079721546 then False.\n",
      "if x = -19.084589067109754 then False.\n",
      "if x = -19.350227054406673 then False.\n",
      "if x = -17.12358485528745 then False.\n",
      "if x = -16.455458286431337 then False.\n",
      "if x = -15.259501523905117 then False.\n",
      "if x = -14.866822379066244 then False.\n",
      "if x = -19.551477684880357 then True.\n",
      "if x = -12.91921839013162 then False.\n",
      "if x = -11.553538648740698 then False.\n",
      "if x = -12.974657033205915 then False.\n",
      "if x = -16.09399673145707 then False.\n",
      "if x = -14.52447607221426 then True.\n",
      "if x = -7.277217947069974 then False.\n",
      "if x = -6.797308402774876 then False.\n",
      "if x = -5.485152762143779 then False.\n",
      "if x = -12.287280664334869 then False.\n",
      "if x = -12.783181797643035 then False.\n",
      "if x = -1.5593376811331934 then False.\n",
      "\n",
      "\n"
     ]
    }
   ],
   "source": [
    "print(as_rule_str(tree, label))"
   ]
  },
  {
   "cell_type": "markdown",
   "metadata": {},
   "source": [
    "That is a ton of rules if we use the data from our prior section. We need to generalize ther rules."
   ]
  },
  {
   "cell_type": "code",
   "execution_count": 30,
   "metadata": {},
   "outputs": [],
   "source": [
    "X = []\n",
    "Y = []\n",
    "for i in L:\n",
    "    X.append(i[0])\n",
    "    Y.append(i[1])"
   ]
  },
  {
   "cell_type": "code",
   "execution_count": 31,
   "metadata": {},
   "outputs": [],
   "source": [
    "def find_edges(tree, label, X, Y):\n",
    "    X.sort()\n",
    "    Y.sort()\n",
    "    diagonals = [i for i in set(X).intersection(set(Y))]\n",
    "    diagonals.sort()\n",
    "    L = [classify(tree, label, [d,d]) for d in diagonals]\n",
    "    low = L.index(False)\n",
    "    min_x = X[low]\n",
    "    min_y = Y[low]\n",
    "    high = L[::-1].index(False)\n",
    "    max_x = X[len(X)-1 - high]\n",
    "    max_y = Y[len(Y)-1 - high]\n",
    "    \n",
    "    return (min_x, min_y), (max_x, max_y)"
   ]
  },
  {
   "cell_type": "code",
   "execution_count": 32,
   "metadata": {},
   "outputs": [
    {
     "data": {
      "text/plain": [
       "((-54.85152762143782, -44.762290633342296),\n",
       " (60.585669645835154, 51.149877004687355))"
      ]
     },
     "execution_count": 32,
     "metadata": {},
     "output_type": "execute_result"
    }
   ],
   "source": [
    "find_edges(tree, label, X, Y) # you can use this to create a new rule to classify a point."
   ]
  },
  {
   "cell_type": "code",
   "execution_count": 33,
   "metadata": {},
   "outputs": [],
   "source": [
    "pred_coord_bounds = find_edges(tree, label, X, Y)"
   ]
  },
  {
   "cell_type": "code",
   "execution_count": 34,
   "metadata": {},
   "outputs": [
    {
     "data": {
      "text/plain": [
       "51.149877004687355"
      ]
     },
     "execution_count": 34,
     "metadata": {},
     "output_type": "execute_result"
    }
   ],
   "source": [
    "pred_coord_bounds[0][0] #minx\n",
    "pred_coord_bounds[0][1] #miny\n",
    "pred_coord_bounds[1][0] #maxx\n",
    "pred_coord_bounds[1][1] #maxy"
   ]
  },
  {
   "cell_type": "code",
   "execution_count": 35,
   "metadata": {},
   "outputs": [
    {
     "data": {
      "text/plain": [
       "95.91216763802964"
      ]
     },
     "execution_count": 35,
     "metadata": {},
     "output_type": "execute_result"
    }
   ],
   "source": [
    "abs(pred_coord_bounds[0][0])+abs(pred_coord_bounds[1][0]) #xspan\n",
    "abs(pred_coord_bounds[0][1])+abs(pred_coord_bounds[1][1]) #yspan"
   ]
  },
  {
   "cell_type": "code",
   "execution_count": 36,
   "metadata": {},
   "outputs": [],
   "source": [
    "import turtle as tl\n",
    "\n",
    "def draw_bag():\n",
    "    tl.shape('turtle')\n",
    "    tl.color('blue')\n",
    "    tl.pen(pencolor = 'blue', pensize = 5)\n",
    "    tl.penup()\n",
    "    tl.goto(-35,35)\n",
    "    tl.pendown()\n",
    "    tl.right(90) # angle of turn\n",
    "    tl.forward(70) #length of line\n",
    "    tl.left(90)\n",
    "    tl.forward(70)\n",
    "    tl.left(90)\n",
    "    tl.forward(70)\n",
    "\n",
    "def draw_bag_guess(pred_coord_bounds):\n",
    "    chad = tl.Turtle() \n",
    "    chad.shape('turtle')\n",
    "    chad.color('red')\n",
    "    chad.pen(pencolor = 'red', pensize = 5)\n",
    "    chad.penup()\n",
    "    chad.goto(pred_coord_bounds[0][0],pred_coord_bounds[1][1])\n",
    "    chad.pendown()\n",
    "    chad.right(90) # angle of turn\n",
    "    chad.forward(abs(pred_coord_bounds[0][1])+abs(pred_coord_bounds[1][1])) #length of line\n",
    "    chad.left(90)\n",
    "    chad.forward(abs(pred_coord_bounds[0][0])+abs(pred_coord_bounds[1][0]))\n",
    "    chad.left(90)\n",
    "    chad.forward(abs(pred_coord_bounds[0][1])+abs(pred_coord_bounds[1][1]))\n",
    "    chad.left(90)\n",
    "    chad.forward(abs(pred_coord_bounds[0][0])+abs(pred_coord_bounds[1][0]))\n",
    "    \n",
    "def plot_turtles(data):\n",
    "    billy = tl.Turtle()\n",
    "    billy.shape('turtle')\n",
    "    billy.color('green')\n",
    "    plot_list = escaped_turtles(data)\n",
    "    for i in plot_list:\n",
    "        billy.penup()\n",
    "        billy.setposition(i[0], i[1])\n",
    "        billy.stamp()\n",
    "\n",
    "def plot_new_turtles(data):\n",
    "    '''\n",
    "    input a list of xy coords [[x,y]]\n",
    "    '''\n",
    "    jake = tl.Turtle()\n",
    "    jake.shape('turtle')\n",
    "    jake.color('black')\n",
    "    plot_list = data\n",
    "    for i in plot_list:\n",
    "        jake.penup()\n",
    "        jake.setposition(i[0], i[1])\n",
    "        jake.stamp()"
   ]
  },
  {
   "cell_type": "code",
   "execution_count": 37,
   "metadata": {},
   "outputs": [],
   "source": [
    "def new_classifier(tree, label, data, pred_point):\n",
    "    X = []\n",
    "    Y = []\n",
    "    for i in data:\n",
    "        X.append(i[0])\n",
    "        Y.append(i[1])\n",
    "    min_x = find_edges(tree, label, X, Y)[0][0]\n",
    "    min_y = find_edges(tree, label, X, Y)[0][1]\n",
    "    max_x = find_edges(tree, label, X, Y)[1][0]\n",
    "    max_y = find_edges(tree, label, X, Y)[1][1]\n",
    "    x = pred_point[0]\n",
    "    y = pred_point[1]\n",
    "    if (min_x < x < max_x) and (min_y < y < max_y): \n",
    "        return 'Inside', True\n",
    "    else:\n",
    "        return 'Outside', False\n",
    "    "
   ]
  },
  {
   "cell_type": "code",
   "execution_count": 38,
   "metadata": {},
   "outputs": [
    {
     "name": "stdout",
     "output_type": "stream",
     "text": [
      "('Inside', True)\n",
      "('Inside', True)\n"
     ]
    }
   ],
   "source": [
    "print(new_classifier(tree, label, L, [-5, 5]))\n",
    "print(new_classifier(tree, label, L, [-36, 5]))#change points around to see if it's within or outside the bounds"
   ]
  },
  {
   "cell_type": "code",
   "execution_count": null,
   "metadata": {},
   "outputs": [],
   "source": [
    "import time\n",
    "\n",
    "if __name__ == '__main__':\n",
    "    tl.setworldcoordinates(-70.,-70.,70.,70.)\n",
    "#     tl.ht()\n",
    "    tl.speed(10)\n",
    "#     tl.tracer(0,0) #ensure update is uncomented if you'd like to see the paths \n",
    "    draw_bag()\n",
    "    draw_bag_guess(pred_coord_bounds)\n",
    "    time.sleep(3)\n",
    "    plot_turtles(L)\n",
    "    plot_new_turtles([[-5,5]])\n",
    "    time.sleep(3)\n",
    "    plot_new_turtles([[-36,5]])\n",
    "    tl.mainloop()"
   ]
  },
  {
   "cell_type": "markdown",
   "metadata": {},
   "source": [
    "We now have a new classifier that uses the edges found from our training data to determin the bounding box for our decision tree!"
   ]
  },
  {
   "cell_type": "code",
   "execution_count": null,
   "metadata": {},
   "outputs": [],
   "source": []
  }
 ],
 "metadata": {
  "kernelspec": {
   "display_name": "Python 3",
   "language": "python",
   "name": "python3"
  },
  "language_info": {
   "codemirror_mode": {
    "name": "ipython",
    "version": 3
   },
   "file_extension": ".py",
   "mimetype": "text/x-python",
   "name": "python",
   "nbconvert_exporter": "python",
   "pygments_lexer": "ipython3",
   "version": "3.7.6"
  }
 },
 "nbformat": 4,
 "nbformat_minor": 2
}
