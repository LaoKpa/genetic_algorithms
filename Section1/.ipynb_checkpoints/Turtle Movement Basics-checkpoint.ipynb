{
 "cells": [
  {
   "cell_type": "markdown",
   "metadata": {},
   "source": [
    "# Genetic Algorithms\n",
    "\n",
    "This first exercise comes out of a saying that the co-founder of stack overflow kept hearing from comapnies.\n",
    "\n",
    "'We're tired of getting developers that can't code thier way out of a paper bag!'\n",
    "\n",
    "Well with the use of the turtle package we can attempt to code our way out of a paper bag."
   ]
  },
  {
   "cell_type": "code",
   "execution_count": 1,
   "metadata": {},
   "outputs": [],
   "source": [
    "import turtle as tl\n",
    "import random\n",
    "import pickle #for data/object serialization\n",
    "from writerfunction import writer"
   ]
  },
  {
   "cell_type": "markdown",
   "metadata": {},
   "source": [
    "## Drawing the bag:\n",
    "Now we can define the area of the bag as well as the function for letting us know when the 'turtle' has escaped.\n",
    "Although the turtle will be shown on the end of the last line of the bag, for our purposes, the turtles will be out little black arrows with trailing lines that will shortly be seen."
   ]
  },
  {
   "cell_type": "code",
   "execution_count": 2,
   "metadata": {},
   "outputs": [],
   "source": [
    "def draw_bag():\n",
    "    tl.shape('turtle')\n",
    "    tl.color('green')\n",
    "    tl.pen(pencolor = 'brown', pensize = 5)\n",
    "    tl.penup()\n",
    "    tl.goto(-35,35)\n",
    "    tl.pendown()\n",
    "    tl.right(90)\n",
    "    tl.forward(70)\n",
    "    tl.left(90)\n",
    "    tl.forward(70)\n",
    "    tl.left(90)\n",
    "    tl.forward(70)"
   ]
  },
  {
   "cell_type": "code",
   "execution_count": 3,
   "metadata": {},
   "outputs": [],
   "source": [
    "def escaped(position):\n",
    "    x = int(position[0])\n",
    "    y = int(position[1])\n",
    "    return x<-35 or x>35 or y<-35 or y >35"
   ]
  },
  {
   "cell_type": "markdown",
   "metadata": {},
   "source": [
    "## Defining different escape route functions:\n",
    "Below are a multitude of different functions, each with the eventual intent to escape the bag.\n",
    "<br>\n",
    "Escaping the bag in this context does not mean leaving the top, it simply means escapinghte bounds we have previously defined. (35x35 square)"
   ]
  },
  {
   "cell_type": "code",
   "execution_count": 4,
   "metadata": {},
   "outputs": [],
   "source": [
    "def draw_line():\n",
    "    angle = 0\n",
    "    step = 5\n",
    "    t = tl.Turtle()\n",
    "    while not escaped(t.position()):\n",
    "        t.left(angle)\n",
    "        t.forward(step)"
   ]
  },
  {
   "cell_type": "code",
   "execution_count": 5,
   "metadata": {},
   "outputs": [],
   "source": [
    "def draw_square(t, size):\n",
    "    L = []\n",
    "    for i in range(4):\n",
    "        t.forward(size)\n",
    "        t.left(90)\n",
    "        store_pos_data(L,t)\n",
    "    return L"
   ]
  },
  {
   "cell_type": "code",
   "execution_count": 6,
   "metadata": {},
   "outputs": [],
   "source": [
    "def store_pos_data(L, t): #storing x,y coord positional data about the turtle \n",
    "    position = t.position()\n",
    "    L.append([position[0], position[1], escaped(position)])"
   ]
  },
  {
   "cell_type": "code",
   "execution_count": 7,
   "metadata": {},
   "outputs": [],
   "source": [
    "def draw_squares(number): #36 escapes\n",
    "    t = tl.Turtle()\n",
    "    L = []\n",
    "    for i in range(1, number + 1):\n",
    "        t.penup()\n",
    "        t.goto(-i,-i)\n",
    "        t.pendown()\n",
    "        L.extend(draw_square(t, i*2))\n",
    "    return L"
   ]
  },
  {
   "cell_type": "code",
   "execution_count": 8,
   "metadata": {},
   "outputs": [],
   "source": [
    "def draw_stuff(angle, step):\n",
    "    t = tl.Turtle()\n",
    "    while not escaped(t.position()):\n",
    "        t.left(angle)\n",
    "        t.forward(step)\n",
    "        step+= 0.5 * step"
   ]
  },
  {
   "cell_type": "code",
   "execution_count": 9,
   "metadata": {},
   "outputs": [],
   "source": [
    "def draw_spirangles(number, angle = 120):\n",
    "    t = tl.Turtle()\n",
    "    for i in range(1,number):\n",
    "        t.forward(i*10)\n",
    "        t.right(angle)"
   ]
  },
  {
   "cell_type": "code",
   "execution_count": 10,
   "metadata": {},
   "outputs": [],
   "source": [
    "def draw_squares_until_escaped(n):\n",
    "    t = tl.Turtle()\n",
    "    L = draw_squares(n)\n",
    "    with open(\"data_square\", \"wb\") as f:\n",
    "        pickle.dump(L,f)"
   ]
  },
  {
   "cell_type": "code",
   "execution_count": 11,
   "metadata": {},
   "outputs": [],
   "source": [
    "def draw_spirals_until_escaped():\n",
    "    t = tl.Turtle()\n",
    "    t.penup()\n",
    "    t.left(random.randint(0,360))\n",
    "    t.pendown()\n",
    "    \n",
    "    i=0\n",
    "    turn = 360/random.randint(1,10)\n",
    "    L = []\n",
    "    store_pos_data(L, t)\n",
    "    while not escaped(t.position()):\n",
    "        i += 1.5\n",
    "        t.forward(i*5)\n",
    "        t.right(turn)\n",
    "        store_pos_data(L,t)\n",
    "    return L"
   ]
  },
  {
   "cell_type": "code",
   "execution_count": 12,
   "metadata": {},
   "outputs": [],
   "source": [
    "def draw_random_spirangles(iters=5):\n",
    "    L=[]\n",
    "    for i in range(iters):\n",
    "        L.extend(draw_spirals_until_escaped())\n",
    "    with open (\"data_rand\", \"wb\") as f:\n",
    "        pickle.dump(L, f)"
   ]
  },
  {
   "cell_type": "markdown",
   "metadata": {},
   "source": [
    "## Running the program\n",
    "You can comment out what functions you don't want to use. Be sure to pass the proper parameters.\n",
    "Think about what a good escape function is.\n",
    "For our purposes now, anything that gets out of the bag is good.\n",
    "Later though, we may want to optimize and get out of the top of the bag in a few moves as possible."
   ]
  },
  {
   "cell_type": "code",
   "execution_count": 13,
   "metadata": {},
   "outputs": [
    {
     "name": "stdout",
     "output_type": "stream",
     "text": [
      "(340.00,0.00)\n"
     ]
    }
   ],
   "source": [
    "if __name__ == '__main__':\n",
    "    tl.setworldcoordinates(-70.,-70.,70.,70.)\n",
    "#     draw_bag()\n",
    "#     draw_line() #yes\n",
    "#     draw_spirangles(8, 153)\n",
    "#     draw_stuff(60,1) #yes\n",
    "#     draw_squares(10) #yes\n",
    "#     draw_spirals_until_escaped()\n",
    "#     draw_random_spirangles(10) #yes\n",
    "#     writer()\n",
    "    tl.mainloop()"
   ]
  }
 ],
 "metadata": {
  "kernelspec": {
   "display_name": "Python 3",
   "language": "python",
   "name": "python3"
  },
  "language_info": {
   "codemirror_mode": {
    "name": "ipython",
    "version": 3
   },
   "file_extension": ".py",
   "mimetype": "text/x-python",
   "name": "python",
   "nbconvert_exporter": "python",
   "pygments_lexer": "ipython3",
   "version": "3.7.1"
  }
 },
 "nbformat": 4,
 "nbformat_minor": 2
}
